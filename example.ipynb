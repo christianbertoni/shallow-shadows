{
 "cells": [
  {
   "cell_type": "code",
   "execution_count": 1,
   "id": "cd54931d",
   "metadata": {},
   "outputs": [],
   "source": [
    "import numpy as np\n",
    "import h5py\n",
    "from inverse_MPS import constructInverse\n",
    "from tensor_networks import MPS, MPStensorProduct\n",
    "from data_acquisition import generateShadow\n",
    "from expectation_estimation import shallowEstimation, sparseEstimation\n",
    "\n",
    "import matplotlib.pyplot as plt"
   ]
  },
  {
   "cell_type": "code",
   "execution_count": 2,
   "id": "ef530625",
   "metadata": {},
   "outputs": [],
   "source": [
    "n_qubits=4\n",
    "depth=3"
   ]
  },
  {
   "cell_type": "code",
   "execution_count": 3,
   "id": "b99ca152",
   "metadata": {},
   "outputs": [
    {
     "name": "stdout",
     "output_type": "stream",
     "text": [
      "Distance from inverse: 2.6645352591003757e-15"
     ]
    }
   ],
   "source": [
    "\n",
    "inverse_bond_dimension=3\n",
    "target_accuracy=1e-13\n",
    "inverse_file_name='data/inverses/M_inverse_n='+str(n_qubits//2)+'_d='+str(depth)+'_chi'+str(inverse_bond_dimension)\n",
    "\n",
    "constructInverse(n_qubits//2, depth, inverse_bond_dimension, target_accuracy, inverse_file_name, verbose=True, regularize=True)"
   ]
  },
  {
   "cell_type": "code",
   "execution_count": 37,
   "id": "effa9752",
   "metadata": {},
   "outputs": [
    {
     "name": "stdout",
     "output_type": "stream",
     "text": [
      "Generated 1000 out of 1000 snapshots."
     ]
    }
   ],
   "source": [
    "state=MPS(size=n_qubits//2, bond_dimension=2, physical_dimension=4)\n",
    "for i in range(state.getSize()):\n",
    "    state.setVector(i,0,0, [1/2**(1/n_qubits),0,0,0])\n",
    "    state.setVector(i,0,1, [0,0,0,0])\n",
    "    state.setVector(i,1,0, [0,0,0,0])\n",
    "    state.setVector(i,1,1,[0,0,0,1/2**(1/n_qubits)])\n",
    "\n",
    "shadow_file_name='data/shadows/shadow_n='+str(n_qubits)+'_d='+str(depth)\n",
    "generateShadow(state, depth, 1000, shadow_file_name, verbose=True, clifford=False)"
   ]
  },
  {
   "cell_type": "code",
   "execution_count": 38,
   "id": "3faa1281",
   "metadata": {},
   "outputs": [
    {
     "name": "stdout",
     "output_type": "stream",
     "text": [
      "Generated 1000 out of 1000 estimations."
     ]
    }
   ],
   "source": [
    "observable=MPStensorProduct(state,state)\n",
    "\n",
    "output_file_name='data/estimations/GHZ_n='+str(n_qubits//2)+'_d='+str(depth)\n",
    "shallowEstimation(shadow_file_name, inverse_file_name,observable, output_file_name, verbose=True)\n",
    "\n",
    "estimations=h5py.File(output_file_name, 'r')[\"estimations\"][:]\n"
   ]
  },
  {
   "cell_type": "code",
   "execution_count": 39,
   "id": "61ea9b65",
   "metadata": {},
   "outputs": [
    {
     "name": "stdout",
     "output_type": "stream",
     "text": [
      "(1.0016304472806379+3.084338340286763e-18j)\n"
     ]
    },
    {
     "data": {
      "image/png": "[encoded data removed]",
      "text/plain": [
       "<Figure size 432x288 with 1 Axes>"
      ]
     },
     "metadata": {
      "needs_background": "light"
     },
     "output_type": "display_data"
    }
   ],
   "source": [
    "plt.hist(np.real(estimations-1), 100)\n",
    "print(np.mean(estimations))"
   ]
  },
  {
   "cell_type": "code",
   "execution_count": 25,
   "id": "6a41aa0c",
   "metadata": {},
   "outputs": [
    {
     "name": "stdout",
     "output_type": "stream",
     "text": [
      "Generated 1000 out of 1000 estimations."
     ]
    }
   ],
   "source": [
    "paulis=[[3,3,3,0,0,0,0,0], [0,3,3,3,0,0,0,0], [0,0,3,3,3,0,0,0], [0,0,0,3,3,3,0,0], [0,0,0,0,3,3,3,0],\n",
    "        [0,0,0,0,0,3,3,3],[3,0,0,0,0,0,3,3], [3,3,0,0,0,0,0,3]]+[[int(x==i) for x in range(n_qubits)] for i in range(n_qubits)]\n",
    "\n",
    "coefficients=[1]*len(paulis)\n",
    "shadow_file_name='data/shadows/shadow_n='+str(n_qubits)+'_d='+str(depth)\n",
    "\n",
    "output_file_name='data/estimations/pauli_n='+str(n_qubits)+'_d='+str(depth)\n",
    "sparseEstimation(paulis, coefficients, depth, shadow_file_name, output_file_name, verbose=True)\n",
    "\n",
    "estimations=h5py.File(output_file_name, 'r')[\"estimations\"][:]"
   ]
  },
  {
   "cell_type": "code",
   "execution_count": 26,
   "id": "5e4653ef",
   "metadata": {},
   "outputs": [
    {
     "name": "stdout",
     "output_type": "stream",
     "text": [
      "(0.44928696496777787+1.5880490352095406e-16j)\n"
     ]
    },
    {
     "data": {
      "image/png": "[encoded data removed]",
      "text/plain": [
       "<Figure size 432x288 with 1 Axes>"
      ]
     },
     "metadata": {
      "needs_background": "light"
     },
     "output_type": "display_data"
    }
   ],
   "source": [
    "plt.hist(np.real(estimations), 100)\n",
    "print(np.mean(estimations))"
   ]
  },
  {
   "cell_type": "code",
   "execution_count": null,
   "id": "1db568a9",
   "metadata": {},
   "outputs": [],
   "source": [
    "estimations"
   ]
  },
  {
   "cell_type": "code",
   "execution_count": null,
   "id": "6bfc189f",
   "metadata": {},
   "outputs": [],
   "source": [
    "a=[2]"
   ]
  },
  {
   "cell_type": "code",
   "execution_count": null,
   "id": "d09bc15c",
   "metadata": {},
   "outputs": [],
   "source": [
    "x=[a for r in range(4)]"
   ]
  },
  {
   "cell_type": "code",
   "execution_count": null,
   "id": "0776daac",
   "metadata": {},
   "outputs": [],
   "source": [
    "x[0]=[3]"
   ]
  },
  {
   "cell_type": "code",
   "execution_count": 21,
   "id": "db397750",
   "metadata": {},
   "outputs": [
    {
     "ename": "NameError",
     "evalue": "name 'output_file' is not defined",
     "output_type": "error",
     "traceback": [
      "\u001b[0;31m---------------------------------------------------------------------------\u001b[0m",
      "\u001b[0;31mNameError\u001b[0m                                 Traceback (most recent call last)",
      "\u001b[0;32m/var/folders/0l/m136qh810cb9r0wflxhphft00000gn/T/ipykernel_56155/1908094273.py\u001b[0m in \u001b[0;36m<module>\u001b[0;34m\u001b[0m\n\u001b[0;32m----> 1\u001b[0;31m \u001b[0moutput_file\u001b[0m\u001b[0;34m.\u001b[0m\u001b[0mclose\u001b[0m\u001b[0;34m(\u001b[0m\u001b[0;34m)\u001b[0m\u001b[0;34m\u001b[0m\u001b[0;34m\u001b[0m\u001b[0m\n\u001b[0m",
      "\u001b[0;31mNameError\u001b[0m: name 'output_file' is not defined"
     ]
    }
   ],
   "source": [
    "output_file.close()"
   ]
  },
  {
   "cell_type": "code",
   "execution_count": 5,
   "id": "e03538b0",
   "metadata": {},
   "outputs": [
    {
     "data": {
      "text/plain": [
       "1"
      ]
     },
     "execution_count": 5,
     "metadata": {},
     "output_type": "execute_result"
    }
   ],
   "source": [
    "int(True)"
   ]
  },
  {
   "cell_type": "code",
   "execution_count": null,
   "id": "83ed3a1f",
   "metadata": {},
   "outputs": [],
   "source": []
  }
 ],
 "metadata": {
  "kernelspec": {
   "display_name": "Python 3 (ipykernel)",
   "language": "python",
   "name": "python3"
  },
  "language_info": {
   "codemirror_mode": {
    "name": "ipython",
    "version": 3
   },
   "file_extension": ".py",
   "mimetype": "text/x-python",
   "name": "python",
   "nbconvert_exporter": "python",
   "pygments_lexer": "ipython3",
   "version": "3.9.16"
  }
 },
 "nbformat": 4,
 "nbformat_minor": 5
}
