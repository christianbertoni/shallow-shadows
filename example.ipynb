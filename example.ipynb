{
 "cells": [
  {
   "cell_type": "code",
   "execution_count": 1,
   "id": "cd54931d",
   "metadata": {},
   "outputs": [],
   "source": [
    "import numpy as np\n",
    "import h5py\n",
    "from inverse_MPS import constructInverse\n",
    "from tensor_networks import MPS, MPStensorProduct\n",
    "from data_acquisition import generateShadow\n",
    "from expectation_estimation import shallowEstimation, sparseEstimation\n",
    "\n",
    "import matplotlib.pyplot as plt"
   ]
  },
  {
   "cell_type": "markdown",
   "id": "33e8ae0f",
   "metadata": {},
   "source": [
    "As an example, we will compute the expectation value of $O=|\\mathrm{GHZ}\\rangle\\langle \\mathrm{GHZ}|$ and $O=\\sum_i Z_{i-1}Z_iZ_{i+1}+X_i$ as in the paper, for $n=8$ qubits and $d=3$. The first is a shallow observable, the second a sparse observable."
   ]
  },
  {
   "cell_type": "code",
   "execution_count": 2,
   "id": "ef530625",
   "metadata": {},
   "outputs": [],
   "source": [
    "n_qubits=8\n",
    "depth=3"
   ]
  },
  {
   "cell_type": "markdown",
   "id": "caf83060",
   "metadata": {},
   "source": [
    "First, we create an MPS representation of $\\mathcal M_d^{-1}$ for $n=8,d=3$, note that this only had to be done once, subsequently the inverse is stored and can be reused for any state and oservable for $n=8, d=3$. As explained in the paper, at very small values the cost function computation can become inaccurate resulting in negative values."
   ]
  },
  {
   "cell_type": "code",
   "execution_count": 6,
   "id": "b99ca152",
   "metadata": {},
   "outputs": [
    {
     "name": "stdout",
     "output_type": "stream",
     "text": [
      "Distance from inverse: 1.7763568394002505e-15                                                       "
     ]
    }
   ],
   "source": [
    "inverse_bond_dimension=3\n",
    "target_accuracy=1e-10\n",
    "inverse_file_name='data/inverses/M_inverse_n='+str(n_qubits//2)+'_d='+str(depth)+'_chi'+str(inverse_bond_dimension)\n",
    "\n",
    "constructInverse(n_qubits//2, depth, inverse_bond_dimension, target_accuracy, inverse_file_name, verbose=True, regularize=True)"
   ]
  },
  {
   "cell_type": "markdown",
   "id": "b077279e",
   "metadata": {},
   "source": [
    "Now we generate a shadow of 1000 snapshots of the GHZ state."
   ]
  },
  {
   "cell_type": "code",
   "execution_count": 36,
   "id": "effa9752",
   "metadata": {},
   "outputs": [
    {
     "name": "stdout",
     "output_type": "stream",
     "text": [
      "Generated 1000 out of 1000 snapshots."
     ]
    }
   ],
   "source": [
    "state=MPS(size=n_qubits//2, bond_dimension=2, physical_dimension=4)\n",
    "for i in range(state.getSize()):\n",
    "    state.setVector(i,0,0, [1/2**(1/n_qubits),0,0,0])\n",
    "    state.setVector(i,0,1, [0,0,0,0])\n",
    "    state.setVector(i,1,0, [0,0,0,0])\n",
    "    state.setVector(i,1,1,[0,0,0,1/2**(1/n_qubits)])\n",
    "\n",
    "shadow_file_name='data/shadows/shadow_n='+str(n_qubits)+'_d='+str(depth)\n",
    "generateShadow(state, depth, 1000, shadow_file_name, verbose=True, clifford=False)"
   ]
  },
  {
   "cell_type": "markdown",
   "id": "6483667b",
   "metadata": {},
   "source": [
    "We now use the shadow to get an estimation of the fidelity $\\langle\\mathrm{GHZ}|\\mathrm{GHZ}\\rangle$. The input is a vectorization of the observable $O=|\\mathrm{GHZ}\\rangle\\langle \\mathrm{GHZ}|$, i.e. $|\\mathrm{GHZ}\\rangle^{\\otimes 2}$."
   ]
  },
  {
   "cell_type": "code",
   "execution_count": 37,
   "id": "3faa1281",
   "metadata": {},
   "outputs": [
    {
     "name": "stdout",
     "output_type": "stream",
     "text": [
      "Generated 1000 out of 1000 estimations."
     ]
    }
   ],
   "source": [
    "observable=MPStensorProduct(state,state)\n",
    "\n",
    "output_file_name='data/estimations/GHZ_n='+str(n_qubits//2)+'_d='+str(depth)\n",
    "\n",
    "shallowEstimation(shadow_file_name, inverse_file_name,observable, output_file_name, verbose=True)\n",
    "\n",
    "estimations_fidelity=h5py.File(output_file_name, 'r')[\"estimations\"][:]\n"
   ]
  },
  {
   "cell_type": "code",
   "execution_count": 38,
   "id": "61ea9b65",
   "metadata": {},
   "outputs": [
    {
     "name": "stdout",
     "output_type": "stream",
     "text": [
      "mean:  1.0123237943265184\n"
     ]
    },
    {
     "data": {
      "image/png": "[encoded data removed]",
      "text/plain": [
       "<Figure size 432x288 with 1 Axes>"
      ]
     },
     "metadata": {
      "needs_background": "light"
     },
     "output_type": "display_data"
    }
   ],
   "source": [
    "estimated_fidelity=np.real(np.mean(estimations_fidelity))\n",
    "\n",
    "plt.hist(np.real(estimations_fidelity), 40)\n",
    "plt.plot([estimated_fidelity,estimated_fidelity],[0,160], 'r', label='Estimation')\n",
    "plt.ylim((0,150))\n",
    "plt.legend()\n",
    "print(\"mean: \", estimated_fidelity)"
   ]
  },
  {
   "cell_type": "markdown",
   "id": "0ce28634",
   "metadata": {},
   "source": [
    "Finally, we obtain an estimation of the expectation value of $H$, since this is a sparse observable we do not need the inverse MPS. "
   ]
  },
  {
   "cell_type": "code",
   "execution_count": 39,
   "id": "6a41aa0c",
   "metadata": {},
   "outputs": [
    {
     "name": "stdout",
     "output_type": "stream",
     "text": [
      "Generated 1000 out of 1000 estimations."
     ]
    }
   ],
   "source": [
    "paulis=[[3,3,3,0,0,0,0,0], [0,3,3,3,0,0,0,0], [0,0,3,3,3,0,0,0], [0,0,0,3,3,3,0,0], [0,0,0,0,3,3,3,0],\n",
    "        [0,0,0,0,0,3,3,3],[3,0,0,0,0,0,3,3], [3,3,0,0,0,0,0,3]]+[[int(x==i) for x in range(n_qubits)] for i in range(n_qubits)]\n",
    "\n",
    "coefficients=[1]*len(paulis)\n",
    "shadow_file_name='data/shadows/shadow_n='+str(n_qubits)+'_d='+str(depth)\n",
    "\n",
    "output_file_name='data/estimations/pauli_n='+str(n_qubits)+'_d='+str(depth)\n",
    "\n",
    "sparseEstimation(shadow_file_name, depth, paulis, coefficients, output_file_name, verbose=True)\n",
    "\n",
    "estimations_hamiltonian=h5py.File(output_file_name, 'r')[\"estimations\"][:]"
   ]
  },
  {
   "cell_type": "code",
   "execution_count": 42,
   "id": "5e4653ef",
   "metadata": {},
   "outputs": [
    {
     "name": "stdout",
     "output_type": "stream",
     "text": [
      "mean:  -0.7005762426619808\n"
     ]
    },
    {
     "data": {
      "image/png": "[encoded data removed]",
      "text/plain": [
       "<Figure size 432x288 with 1 Axes>"
      ]
     },
     "metadata": {
      "needs_background": "light"
     },
     "output_type": "display_data"
    }
   ],
   "source": [
    "estimated_hamiltonian=np.real(np.mean(estimations_hamiltonian))\n",
    "\n",
    "plt.hist(np.real(estimations_hamiltonian), 40)\n",
    "plt.plot([estimated_hamiltonian,estimated_hamiltonian],[0,160], 'r', label='Estimation')\n",
    "plt.ylim((0,110))\n",
    "plt.legend()\n",
    "print(\"mean: \", estimated_hamiltonian)"
   ]
  },
  {
   "cell_type": "code",
   "execution_count": null,
   "id": "d293ea9b",
   "metadata": {},
   "outputs": [],
   "source": []
  }
 ],
 "metadata": {
  "kernelspec": {
   "display_name": "Python 3 (ipykernel)",
   "language": "python",
   "name": "python3"
  },
  "language_info": {
   "codemirror_mode": {
    "name": "ipython",
    "version": 3
   },
   "file_extension": ".py",
   "mimetype": "text/x-python",
   "name": "python",
   "nbconvert_exporter": "python",
   "pygments_lexer": "ipython3",
   "version": "3.9.16"
  }
 },
 "nbformat": 4,
 "nbformat_minor": 5
}
